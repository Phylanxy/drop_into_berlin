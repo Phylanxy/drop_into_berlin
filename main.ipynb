{
 "cells": [
  {
   "cell_type": "code",
   "execution_count": 9,
   "metadata": {
    "collapsed": true
   },
   "outputs": [],
   "source": [
    "import pandas as pd\n",
    "import numpy as np\n",
    "from bs4 import BeautifulSoup\n",
    "import requests"
   ]
  },
  {
   "cell_type": "code",
   "execution_count": 13,
   "outputs": [],
   "source": [
    "df = pd.read_excel(\"restaurant_restaurants_final.xlsx\")"
   ],
   "metadata": {
    "collapsed": false
   }
  },
  {
   "cell_type": "code",
   "execution_count": 21,
   "outputs": [
    {
     "data": {
      "text/plain": "<bound method Index.unique of Index(['business_status', 'geometry', 'icon', 'icon_background_color',\n       'icon_mask_base_uri', 'name', 'opening_hours', 'photos', 'plus_code',\n       'price_level', 'rating', 'reference', 'scope', 'types',\n       'user_ratings_total', 'vicinity', 'permanently_closed', 'url',\n       'address_components', 'adr_address', 'business_status.1',\n       'curbside_pickup', 'current_opening_hours', 'delivery', 'dine_in',\n       'editorial_summary', 'formatted_address', 'formatted_phone_number',\n       'geometry.1', 'icon.1', 'icon_background_color.1',\n       'icon_mask_base_uri.1', 'international_phone_number', 'name.1',\n       'opening_hours.1', 'photos.1', 'plus_code.1', 'price_level.1',\n       'rating.1', 'reference.1', 'reservable', 'reviews', 'serves_beer',\n       'serves_breakfast', 'serves_brunch', 'serves_dinner', 'serves_lunch',\n       'serves_wine', 'takeout', 'types.1', 'url.1', 'user_ratings_total.1',\n       'utc_offset', 'vicinity.1', 'website', 'wheelchair_accessible_entrance',\n       'secondary_opening_hours', 'serves_vegetarian_food',\n       'permanently_closed.1'],\n      dtype='object')>"
     },
     "execution_count": 21,
     "metadata": {},
     "output_type": "execute_result"
    }
   ],
   "source": [
    "df.columns.unique"
   ],
   "metadata": {
    "collapsed": false
   }
  },
  {
   "cell_type": "code",
   "execution_count": 26,
   "outputs": [],
   "source": [
    "cols_to_drop = ['vicinity.1', 'permanently_closed.1', 'secondary_opening_hours', 'utc_offset', 'user_ratings_total.1', 'url.1', 'types.1', 'name.1',\n",
    "       'opening_hours.1', 'photos.1', 'plus_code.1', 'price_level.1', 'rating.1', 'reference.1',  'geometry.1', 'icon.1', 'icon_background_color.1', 'current_opening_hours', 'adr_address', 'business_status.1', 'address_components', 'icon', 'icon_background_color', 'icon', 'icon_background_color',\n",
    "       'icon_mask_base_uri', 'icon_mask_base_uri.1']"
   ],
   "metadata": {
    "collapsed": false
   }
  },
  {
   "cell_type": "code",
   "execution_count": 27,
   "outputs": [
    {
     "data": {
      "text/plain": "     business_status                                           geometry  \\\n0        OPERATIONAL  {'location': {'lat': 52.5125038, 'lng': 13.587...   \n1        OPERATIONAL  {'location': {'lat': 52.50790970000001, 'lng':...   \n2        OPERATIONAL  {'location': {'lat': 52.51996279999999, 'lng':...   \n3        OPERATIONAL  {'location': {'lat': 52.5531136, 'lng': 13.423...   \n4        OPERATIONAL  {'location': {'lat': 52.46764289999999, 'lng':...   \n...              ...                                                ...   \n4400     OPERATIONAL  {'location': {'lat': 52.5115677, 'lng': 13.269...   \n4401     OPERATIONAL  {'location': {'lat': 52.50666289999999, 'lng':...   \n4402     OPERATIONAL  {'location': {'lat': 52.5094664, 'lng': 13.277...   \n4403     OPERATIONAL  {'location': {'lat': 52.5106518, 'lng': 13.288...   \n4404     OPERATIONAL  {'location': {'lat': 52.4626828, 'lng': 13.380...   \n\n                                                   name        opening_hours  \\\n0                               Restaurant „Zur S-Bahn“  {'open_now': False}   \n1                              Restaurant am Steinplatz  {'open_now': False}   \n2                                      Restaurant Nolle  {'open_now': False}   \n3                                     Restaurant Daheim  {'open_now': False}   \n4     Lahn-Eck Berlin Das gemütliche Schank und Spei...   {'open_now': True}   \n...                                                 ...                  ...   \n4400                                         Vino Greco  {'open_now': False}   \n4401                              Asia Restaurant Sonne  {'open_now': False}   \n4402                                   Grand Bar Berlin  {'open_now': False}   \n4403                                  Cantina Siciliana  {'open_now': False}   \n4404                                     Namaste Italia  {'open_now': False}   \n\n                                                 photos  \\\n0     [{'height': 3584, 'html_attributions': ['<a hr...   \n1     [{'height': 1080, 'html_attributions': ['<a hr...   \n2     [{'height': 3744, 'html_attributions': ['<a hr...   \n3     [{'height': 669, 'html_attributions': ['<a hre...   \n4     [{'height': 3024, 'html_attributions': ['<a hr...   \n...                                                 ...   \n4400  [{'height': 1224, 'html_attributions': ['<a hr...   \n4401  [{'height': 2448, 'html_attributions': ['<a hr...   \n4402  [{'height': 1920, 'html_attributions': ['<a hr...   \n4403  [{'height': 3024, 'html_attributions': ['<a hr...   \n4404  [{'height': 2269, 'html_attributions': ['<a hr...   \n\n                                              plus_code  price_level  rating  \\\n0     {'compound_code': 'GH6Q+X4 Berlin', 'global_co...          2.0     4.6   \n1     {'compound_code': 'G85G+5G Berlin', 'global_co...          NaN     4.4   \n2     {'compound_code': 'G99Q+XM Berlin', 'global_co...          2.0     4.3   \n3     {'compound_code': 'HC3F+6G Berlin', 'global_co...          2.0     4.4   \n4     {'compound_code': 'FC9R+3V Berlin', 'global_co...          1.0     4.4   \n...                                                 ...          ...     ...   \n4400  {'compound_code': 'G769+JV Berlin', 'global_co...          2.0     4.7   \n4401  {'compound_code': 'G74M+MP Berlin', 'global_co...          2.0     3.9   \n4402  {'compound_code': 'G75H+Q3 Berlin', 'global_co...          NaN     4.2   \n4403  {'compound_code': 'G76Q+76 Berlin', 'global_co...          NaN     4.5   \n4404  {'compound_code': 'F97J+35 Berlin', 'global_co...          NaN     4.8   \n\n                        reference   scope  ... serves_beer  serves_breakfast  \\\n0     ChIJAergcnhJqEcRST9W0VduzeY  GOOGLE  ...         1.0               0.0   \n1     ChIJaw12ev1QqEcRUApn-mBv2vM  GOOGLE  ...         1.0               1.0   \n2     ChIJWc98GMNRqEcRJKn-jkqXZgA  GOOGLE  ...         1.0               NaN   \n3     ChIJgTRA3fdNqEcRplfCByWlpO8  GOOGLE  ...         1.0               NaN   \n4     ChIJ80Ss-Z1PqEcRpsXmnT9JdUc  GOOGLE  ...         1.0               1.0   \n...                           ...     ...  ...         ...               ...   \n4400  ChIJqfomdtlQqEcRDbh3R4hqQiY  GOOGLE  ...         1.0               0.0   \n4401  ChIJe_aa4NNQqEcRvGVumhyxim4  GOOGLE  ...         1.0               0.0   \n4402  ChIJtdceUytXqEcRBvUYLcJKo2M  GOOGLE  ...         1.0               NaN   \n4403  ChIJr0qHXtZQqEcRI8A-t0OCzg8  GOOGLE  ...         1.0               NaN   \n4404  ChIJE_9BYY9PqEcRF41eUi4CZrs  GOOGLE  ...         1.0               NaN   \n\n     serves_brunch  serves_dinner serves_lunch  serves_wine  takeout  \\\n0              0.0            1.0          1.0          1.0      1.0   \n1              1.0            1.0          1.0          1.0      0.0   \n2              0.0            1.0          1.0          1.0      NaN   \n3              0.0            1.0          1.0          1.0      1.0   \n4              0.0            1.0          1.0          1.0      1.0   \n...            ...            ...          ...          ...      ...   \n4400           0.0            1.0          0.0          1.0      1.0   \n4401           0.0            1.0          1.0          1.0      1.0   \n4402           NaN            NaN          NaN          1.0      NaN   \n4403           0.0            1.0          1.0          1.0      1.0   \n4404           NaN            1.0          1.0          1.0      1.0   \n\n                                                website  \\\n0                             http://www.zur-s-bahn.de/   \n1                  http://www.restaurantsteinplatz.com/   \n2                       http://www.restaurant-nolle.de/   \n3                      http://www.willkommen-daheim.de/   \n4     https://shica.pw/lahn-eck-berlin-das-gemutlich...   \n...                                                 ...   \n4400                         http://www.vino-greco.com/   \n4401              https://asia-restaurant-sonne.berlin/   \n4402                                                NaN   \n4403                    http://www.cantinasiciliana.de/   \n4404  https://namasteitalia.business.site/?utm_sourc...   \n\n     wheelchair_accessible_entrance serves_vegetarian_food  \n0                               0.0                    NaN  \n1                               1.0                    1.0  \n2                               1.0                    NaN  \n3                               0.0                    NaN  \n4                               NaN                    0.0  \n...                             ...                    ...  \n4400                            1.0                    1.0  \n4401                            1.0                    1.0  \n4402                            NaN                    NaN  \n4403                            NaN                    NaN  \n4404                            1.0                    1.0  \n\n[4405 rows x 34 columns]",
      "text/html": "<div>\n<style scoped>\n    .dataframe tbody tr th:only-of-type {\n        vertical-align: middle;\n    }\n\n    .dataframe tbody tr th {\n        vertical-align: top;\n    }\n\n    .dataframe thead th {\n        text-align: right;\n    }\n</style>\n<table border=\"1\" class=\"dataframe\">\n  <thead>\n    <tr style=\"text-align: right;\">\n      <th></th>\n      <th>business_status</th>\n      <th>geometry</th>\n      <th>name</th>\n      <th>opening_hours</th>\n      <th>photos</th>\n      <th>plus_code</th>\n      <th>price_level</th>\n      <th>rating</th>\n      <th>reference</th>\n      <th>scope</th>\n      <th>...</th>\n      <th>serves_beer</th>\n      <th>serves_breakfast</th>\n      <th>serves_brunch</th>\n      <th>serves_dinner</th>\n      <th>serves_lunch</th>\n      <th>serves_wine</th>\n      <th>takeout</th>\n      <th>website</th>\n      <th>wheelchair_accessible_entrance</th>\n      <th>serves_vegetarian_food</th>\n    </tr>\n  </thead>\n  <tbody>\n    <tr>\n      <th>0</th>\n      <td>OPERATIONAL</td>\n      <td>{'location': {'lat': 52.5125038, 'lng': 13.587...</td>\n      <td>Restaurant „Zur S-Bahn“</td>\n      <td>{'open_now': False}</td>\n      <td>[{'height': 3584, 'html_attributions': ['&lt;a hr...</td>\n      <td>{'compound_code': 'GH6Q+X4 Berlin', 'global_co...</td>\n      <td>2.0</td>\n      <td>4.6</td>\n      <td>ChIJAergcnhJqEcRST9W0VduzeY</td>\n      <td>GOOGLE</td>\n      <td>...</td>\n      <td>1.0</td>\n      <td>0.0</td>\n      <td>0.0</td>\n      <td>1.0</td>\n      <td>1.0</td>\n      <td>1.0</td>\n      <td>1.0</td>\n      <td>http://www.zur-s-bahn.de/</td>\n      <td>0.0</td>\n      <td>NaN</td>\n    </tr>\n    <tr>\n      <th>1</th>\n      <td>OPERATIONAL</td>\n      <td>{'location': {'lat': 52.50790970000001, 'lng':...</td>\n      <td>Restaurant am Steinplatz</td>\n      <td>{'open_now': False}</td>\n      <td>[{'height': 1080, 'html_attributions': ['&lt;a hr...</td>\n      <td>{'compound_code': 'G85G+5G Berlin', 'global_co...</td>\n      <td>NaN</td>\n      <td>4.4</td>\n      <td>ChIJaw12ev1QqEcRUApn-mBv2vM</td>\n      <td>GOOGLE</td>\n      <td>...</td>\n      <td>1.0</td>\n      <td>1.0</td>\n      <td>1.0</td>\n      <td>1.0</td>\n      <td>1.0</td>\n      <td>1.0</td>\n      <td>0.0</td>\n      <td>http://www.restaurantsteinplatz.com/</td>\n      <td>1.0</td>\n      <td>1.0</td>\n    </tr>\n    <tr>\n      <th>2</th>\n      <td>OPERATIONAL</td>\n      <td>{'location': {'lat': 52.51996279999999, 'lng':...</td>\n      <td>Restaurant Nolle</td>\n      <td>{'open_now': False}</td>\n      <td>[{'height': 3744, 'html_attributions': ['&lt;a hr...</td>\n      <td>{'compound_code': 'G99Q+XM Berlin', 'global_co...</td>\n      <td>2.0</td>\n      <td>4.3</td>\n      <td>ChIJWc98GMNRqEcRJKn-jkqXZgA</td>\n      <td>GOOGLE</td>\n      <td>...</td>\n      <td>1.0</td>\n      <td>NaN</td>\n      <td>0.0</td>\n      <td>1.0</td>\n      <td>1.0</td>\n      <td>1.0</td>\n      <td>NaN</td>\n      <td>http://www.restaurant-nolle.de/</td>\n      <td>1.0</td>\n      <td>NaN</td>\n    </tr>\n    <tr>\n      <th>3</th>\n      <td>OPERATIONAL</td>\n      <td>{'location': {'lat': 52.5531136, 'lng': 13.423...</td>\n      <td>Restaurant Daheim</td>\n      <td>{'open_now': False}</td>\n      <td>[{'height': 669, 'html_attributions': ['&lt;a hre...</td>\n      <td>{'compound_code': 'HC3F+6G Berlin', 'global_co...</td>\n      <td>2.0</td>\n      <td>4.4</td>\n      <td>ChIJgTRA3fdNqEcRplfCByWlpO8</td>\n      <td>GOOGLE</td>\n      <td>...</td>\n      <td>1.0</td>\n      <td>NaN</td>\n      <td>0.0</td>\n      <td>1.0</td>\n      <td>1.0</td>\n      <td>1.0</td>\n      <td>1.0</td>\n      <td>http://www.willkommen-daheim.de/</td>\n      <td>0.0</td>\n      <td>NaN</td>\n    </tr>\n    <tr>\n      <th>4</th>\n      <td>OPERATIONAL</td>\n      <td>{'location': {'lat': 52.46764289999999, 'lng':...</td>\n      <td>Lahn-Eck Berlin Das gemütliche Schank und Spei...</td>\n      <td>{'open_now': True}</td>\n      <td>[{'height': 3024, 'html_attributions': ['&lt;a hr...</td>\n      <td>{'compound_code': 'FC9R+3V Berlin', 'global_co...</td>\n      <td>1.0</td>\n      <td>4.4</td>\n      <td>ChIJ80Ss-Z1PqEcRpsXmnT9JdUc</td>\n      <td>GOOGLE</td>\n      <td>...</td>\n      <td>1.0</td>\n      <td>1.0</td>\n      <td>0.0</td>\n      <td>1.0</td>\n      <td>1.0</td>\n      <td>1.0</td>\n      <td>1.0</td>\n      <td>https://shica.pw/lahn-eck-berlin-das-gemutlich...</td>\n      <td>NaN</td>\n      <td>0.0</td>\n    </tr>\n    <tr>\n      <th>...</th>\n      <td>...</td>\n      <td>...</td>\n      <td>...</td>\n      <td>...</td>\n      <td>...</td>\n      <td>...</td>\n      <td>...</td>\n      <td>...</td>\n      <td>...</td>\n      <td>...</td>\n      <td>...</td>\n      <td>...</td>\n      <td>...</td>\n      <td>...</td>\n      <td>...</td>\n      <td>...</td>\n      <td>...</td>\n      <td>...</td>\n      <td>...</td>\n      <td>...</td>\n      <td>...</td>\n    </tr>\n    <tr>\n      <th>4400</th>\n      <td>OPERATIONAL</td>\n      <td>{'location': {'lat': 52.5115677, 'lng': 13.269...</td>\n      <td>Vino Greco</td>\n      <td>{'open_now': False}</td>\n      <td>[{'height': 1224, 'html_attributions': ['&lt;a hr...</td>\n      <td>{'compound_code': 'G769+JV Berlin', 'global_co...</td>\n      <td>2.0</td>\n      <td>4.7</td>\n      <td>ChIJqfomdtlQqEcRDbh3R4hqQiY</td>\n      <td>GOOGLE</td>\n      <td>...</td>\n      <td>1.0</td>\n      <td>0.0</td>\n      <td>0.0</td>\n      <td>1.0</td>\n      <td>0.0</td>\n      <td>1.0</td>\n      <td>1.0</td>\n      <td>http://www.vino-greco.com/</td>\n      <td>1.0</td>\n      <td>1.0</td>\n    </tr>\n    <tr>\n      <th>4401</th>\n      <td>OPERATIONAL</td>\n      <td>{'location': {'lat': 52.50666289999999, 'lng':...</td>\n      <td>Asia Restaurant Sonne</td>\n      <td>{'open_now': False}</td>\n      <td>[{'height': 2448, 'html_attributions': ['&lt;a hr...</td>\n      <td>{'compound_code': 'G74M+MP Berlin', 'global_co...</td>\n      <td>2.0</td>\n      <td>3.9</td>\n      <td>ChIJe_aa4NNQqEcRvGVumhyxim4</td>\n      <td>GOOGLE</td>\n      <td>...</td>\n      <td>1.0</td>\n      <td>0.0</td>\n      <td>0.0</td>\n      <td>1.0</td>\n      <td>1.0</td>\n      <td>1.0</td>\n      <td>1.0</td>\n      <td>https://asia-restaurant-sonne.berlin/</td>\n      <td>1.0</td>\n      <td>1.0</td>\n    </tr>\n    <tr>\n      <th>4402</th>\n      <td>OPERATIONAL</td>\n      <td>{'location': {'lat': 52.5094664, 'lng': 13.277...</td>\n      <td>Grand Bar Berlin</td>\n      <td>{'open_now': False}</td>\n      <td>[{'height': 1920, 'html_attributions': ['&lt;a hr...</td>\n      <td>{'compound_code': 'G75H+Q3 Berlin', 'global_co...</td>\n      <td>NaN</td>\n      <td>4.2</td>\n      <td>ChIJtdceUytXqEcRBvUYLcJKo2M</td>\n      <td>GOOGLE</td>\n      <td>...</td>\n      <td>1.0</td>\n      <td>NaN</td>\n      <td>NaN</td>\n      <td>NaN</td>\n      <td>NaN</td>\n      <td>1.0</td>\n      <td>NaN</td>\n      <td>NaN</td>\n      <td>NaN</td>\n      <td>NaN</td>\n    </tr>\n    <tr>\n      <th>4403</th>\n      <td>OPERATIONAL</td>\n      <td>{'location': {'lat': 52.5106518, 'lng': 13.288...</td>\n      <td>Cantina Siciliana</td>\n      <td>{'open_now': False}</td>\n      <td>[{'height': 3024, 'html_attributions': ['&lt;a hr...</td>\n      <td>{'compound_code': 'G76Q+76 Berlin', 'global_co...</td>\n      <td>NaN</td>\n      <td>4.5</td>\n      <td>ChIJr0qHXtZQqEcRI8A-t0OCzg8</td>\n      <td>GOOGLE</td>\n      <td>...</td>\n      <td>1.0</td>\n      <td>NaN</td>\n      <td>0.0</td>\n      <td>1.0</td>\n      <td>1.0</td>\n      <td>1.0</td>\n      <td>1.0</td>\n      <td>http://www.cantinasiciliana.de/</td>\n      <td>NaN</td>\n      <td>NaN</td>\n    </tr>\n    <tr>\n      <th>4404</th>\n      <td>OPERATIONAL</td>\n      <td>{'location': {'lat': 52.4626828, 'lng': 13.380...</td>\n      <td>Namaste Italia</td>\n      <td>{'open_now': False}</td>\n      <td>[{'height': 2269, 'html_attributions': ['&lt;a hr...</td>\n      <td>{'compound_code': 'F97J+35 Berlin', 'global_co...</td>\n      <td>NaN</td>\n      <td>4.8</td>\n      <td>ChIJE_9BYY9PqEcRF41eUi4CZrs</td>\n      <td>GOOGLE</td>\n      <td>...</td>\n      <td>1.0</td>\n      <td>NaN</td>\n      <td>NaN</td>\n      <td>1.0</td>\n      <td>1.0</td>\n      <td>1.0</td>\n      <td>1.0</td>\n      <td>https://namasteitalia.business.site/?utm_sourc...</td>\n      <td>1.0</td>\n      <td>1.0</td>\n    </tr>\n  </tbody>\n</table>\n<p>4405 rows × 34 columns</p>\n</div>"
     },
     "execution_count": 27,
     "metadata": {},
     "output_type": "execute_result"
    }
   ],
   "source": [
    "df.drop(cols_to_drop, axis=1)"
   ],
   "metadata": {
    "collapsed": false
   }
  },
  {
   "cell_type": "code",
   "execution_count": 10,
   "outputs": [],
   "source": [],
   "metadata": {
    "collapsed": false
   }
  },
  {
   "cell_type": "code",
   "execution_count": null,
   "outputs": [],
   "source": [],
   "metadata": {
    "collapsed": false
   }
  }
 ],
 "metadata": {
  "kernelspec": {
   "display_name": "Python 3",
   "language": "python",
   "name": "python3"
  },
  "language_info": {
   "codemirror_mode": {
    "name": "ipython",
    "version": 2
   },
   "file_extension": ".py",
   "mimetype": "text/x-python",
   "name": "python",
   "nbconvert_exporter": "python",
   "pygments_lexer": "ipython2",
   "version": "2.7.6"
  }
 },
 "nbformat": 4,
 "nbformat_minor": 0
}
